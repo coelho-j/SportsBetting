{
 "cells": [
  {
   "cell_type": "code",
   "execution_count": 1,
   "id": "b9a0b61b",
   "metadata": {},
   "outputs": [],
   "source": [
    "import pandas as pd\n",
    "import statsmodels.api as sm\n",
    "import pybaseball as pyb\n",
    "import numpy as np\n",
    "import xgboost"
   ]
  },
  {
   "cell_type": "code",
   "execution_count": null,
   "id": "a292c870",
   "metadata": {},
   "outputs": [],
   "source": [
    "team_batting = pyb.team_batting(2024)\n",
    "team_batting = team_batting[\n",
    "    [\"Team\", \"G\", \"AB\", \"R\", \"H\", \"HR\", \"RBI\", \"SB\", \"OBP\", \"SLG\"]\n",
    "]\n",
    "team_batting[\"OPS\"] = team_batting[\"OBP\"] + team_batting[\"SLG\"]\n",
    "team_pitching = pyb.team_pitching(\n",
    "    2024, end_date=\"2024-09-29\"\n",
    ")  # Limit to regular season\n",
    "team_pitching = team_pitching[[\"Team\", \"W\", \"L\", \"ERA\", \"IP\", \"SO\", \"WHIP\", \"FIP\"]]"
   ]
  },
  {
   "cell_type": "code",
   "execution_count": 3,
   "id": "fc535d21",
   "metadata": {},
   "outputs": [],
   "source": [
    "teams = team_batting[\"Team\"].unique().tolist()"
   ]
  },
  {
   "cell_type": "code",
   "execution_count": 4,
   "id": "fb6501cf",
   "metadata": {},
   "outputs": [],
   "source": [
    "games = []\n",
    "for team in teams:\n",
    "    try:\n",
    "        log = pyb.schedule_and_record(2024, team)\n",
    "        home_games = log[log[\"Home_Away\"] == \"Home\"]\n",
    "        for _, row in home_games.iterrows():\n",
    "            home_team = row[\"Tm\"]\n",
    "            away_team = row[\"Opp\"]\n",
    "            home_win = (\n",
    "                1 if row[\"W/L\"].startswith(\"W\") else 0\n",
    "            )  # Handle 'W-wo' etc., but assuming 'W' or 'L'\n",
    "            games.append(\n",
    "                {\"home_team\": home_team, \"away_team\": away_team, \"home_win\": home_win}\n",
    "            )\n",
    "    except Exception as e:\n",
    "        print(f\"Error fetching log for {team}: {e}\")\n",
    "games_df = pd.DataFrame(games)"
   ]
  },
  {
   "cell_type": "code",
   "execution_count": null,
   "id": "ee212c20",
   "metadata": {},
   "outputs": [],
   "source": [
    "games_df = (\n",
    "    games_df.merge(\n",
    "        team_batting[team_batting[\"G\"] <= 162][[\"Team\", \"OPS\"]],\n",
    "        left_on=\"home_team\",\n",
    "        right_on=\"Team\",\n",
    "    )\n",
    "    .rename(columns={\"OPS\": \"home_OPS\"})\n",
    "    .drop(\"Team\", axis=1)\n",
    ")\n",
    "\n",
    "games_df = (\n",
    "    games_df.merge(team_batting[[\"Team\", \"OPS\"]], left_on=\"away_team\", right_on=\"Team\")\n",
    "    .rename(columns={\"OPS\": \"away_OPS\"})\n",
    "    .drop(\"Team\", axis=1)\n",
    ")\n",
    "games_df = games_df.merge(\n",
    "    team_pitching[[\"Team\", \"ERA\", \"WHIP\"]], left_on=\"home_team\", right_on=\"Team\"\n",
    ").drop(\"Team\", axis=1)\n",
    "games_df = games_df.merge(\n",
    "    team_pitching[[\"Team\", \"ERA\", \"WHIP\"]],\n",
    "    left_on=\"away_team\",\n",
    "    right_on=\"Team\",\n",
    "    suffixes=(\"\", \"_away\"),\n",
    ").drop(\"Team\", axis=1)\n",
    "games_df.rename(\n",
    "    columns={\"ERA_away\": \"away_ERA\", \"WHIP_away\": \"away_WHIP\"}, inplace=True\n",
    ")"
   ]
  },
  {
   "cell_type": "code",
   "execution_count": 6,
   "id": "23b5cf73",
   "metadata": {},
   "outputs": [
    {
     "name": "stdout",
     "output_type": "stream",
     "text": [
      "Training on 130 games\n"
     ]
    }
   ],
   "source": [
    "games_df = games_df.sample(n=130, random_state=42)\n",
    "print(f\"Training on {len(games_df)} games\")"
   ]
  },
  {
   "cell_type": "code",
   "execution_count": 7,
   "id": "0d5fd6e6",
   "metadata": {},
   "outputs": [],
   "source": [
    "features = [\"home_OPS\", \"away_OPS\", \"ERA\", \"away_ERA\", \"WHIP\", \"away_WHIP\"]\n",
    "X = games_df[features]\n",
    "y = games_df[\"home_win\"]"
   ]
  },
  {
   "cell_type": "code",
   "execution_count": 8,
   "id": "6108299f",
   "metadata": {},
   "outputs": [],
   "source": [
    "model = xgboost.DMatrix(X, label=y)\n",
    "params = {\n",
    "    \"objective\": \"binary:logistic\",\n",
    "    \"max_depth\": 3,\n",
    "    \"eta\": 0.1,\n",
    "    \"eval_metric\": \"logloss\",\n",
    "}\n",
    "model = xgboost.train(params, model, num_boost_round=100)"
   ]
  },
  {
   "cell_type": "code",
   "execution_count": 9,
   "id": "36657cad",
   "metadata": {},
   "outputs": [],
   "source": [
    "home_team = \"LAD\"\n",
    "away_team = \"NYY\"\n",
    "home_OPS = team_batting.loc[team_batting[\"Team\"] == home_team, \"OPS\"].values[0]\n",
    "away_OPS = team_batting.loc[team_batting[\"Team\"] == away_team, \"OPS\"].values[0]\n",
    "home_ERA = team_pitching.loc[team_pitching[\"Team\"] == home_team, \"ERA\"].values[0]\n",
    "away_ERA = team_pitching.loc[team_pitching[\"Team\"] == away_team, \"ERA\"].values[0]\n",
    "home_WHIP = team_pitching.loc[team_pitching[\"Team\"] == home_team, \"WHIP\"].values[0]\n",
    "away_WHIP = team_pitching.loc[team_pitching[\"Team\"] == away_team, \"WHIP\"].values[0]"
   ]
  },
  {
   "cell_type": "code",
   "execution_count": 10,
   "id": "777d4c3d",
   "metadata": {},
   "outputs": [],
   "source": [
    "home_team = \"LAD\"\n",
    "away_team = \"NYY\"\n",
    "home_OPS = team_batting.loc[team_batting[\"Team\"] == home_team, \"OPS\"].values[0]\n",
    "away_OPS = team_batting.loc[team_batting[\"Team\"] == away_team, \"OPS\"].values[0]\n",
    "home_ERA = team_pitching.loc[team_pitching[\"Team\"] == home_team, \"ERA\"].values[0]\n",
    "away_ERA = team_pitching.loc[team_pitching[\"Team\"] == away_team, \"ERA\"].values[0]\n",
    "home_WHIP = team_pitching.loc[team_pitching[\"Team\"] == home_team, \"WHIP\"].values[0]\n",
    "away_WHIP = team_pitching.loc[team_pitching[\"Team\"] == away_team, \"WHIP\"].values[0]\n",
    "\n",
    "new_data = pd.DataFrame(\n",
    "    {\n",
    "        \"home_OPS\": [home_OPS],\n",
    "        \"away_OPS\": [away_OPS],\n",
    "        \"ERA\": [home_ERA],\n",
    "        \"away_ERA\": [away_ERA],\n",
    "        \"WHIP\": [home_WHIP],\n",
    "        \"away_WHIP\": [away_WHIP],\n",
    "    }\n",
    ")"
   ]
  },
  {
   "cell_type": "code",
   "execution_count": 11,
   "id": "a039004b",
   "metadata": {},
   "outputs": [
    {
     "name": "stdout",
     "output_type": "stream",
     "text": [
      "Predicted probability that LAD wins against NYY (LAD home): 61.7%\n"
     ]
    }
   ],
   "source": [
    "dtest = xgboost.DMatrix(new_data)\n",
    "prob = model.predict(dtest)[0]\n",
    "print(f\"Predicted probability that LAD wins against NYY (LAD home): {prob:.1%}\")"
   ]
  },
  {
   "cell_type": "code",
   "execution_count": null,
   "id": "ad625ce0",
   "metadata": {},
   "outputs": [],
   "source": []
  },
  {
   "cell_type": "code",
   "execution_count": null,
   "id": "85953e4d",
   "metadata": {},
   "outputs": [],
   "source": []
  }
 ],
 "metadata": {
  "kernelspec": {
   "display_name": "SportsBetting",
   "language": "python",
   "name": "python3"
  },
  "language_info": {
   "codemirror_mode": {
    "name": "ipython",
    "version": 3
   },
   "file_extension": ".py",
   "mimetype": "text/x-python",
   "name": "python",
   "nbconvert_exporter": "python",
   "pygments_lexer": "ipython3",
   "version": "3.13.7"
  }
 },
 "nbformat": 4,
 "nbformat_minor": 5
}
