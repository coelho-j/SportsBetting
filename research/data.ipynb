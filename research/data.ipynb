{
 "cells": [
  {
   "cell_type": "code",
   "execution_count": 10,
   "id": "4872b3d0",
   "metadata": {},
   "outputs": [],
   "source": [
    "import pandas as pd\n",
    "import requests\n",
    "from bs4 import BeautifulSoup\n",
    "import pybaseball as pyb\n",
    "import json\n",
    "from datetime import datetime\n",
    "import time\n",
    "import os\n",
    "\n",
    "import re\n",
    "\n",
    "\n",
    "pyb.cache.enable()\n"
   ]
  },
  {
   "cell_type": "code",
   "execution_count": 3,
   "id": "91b7a80f",
   "metadata": {},
   "outputs": [
    {
     "name": "stdout",
     "output_type": "stream",
     "text": [
      "Team Batting Data Sample:\n",
      "  Team     G    AB    R     H   HR  RBI   SB    OBP    SLG\n",
      "0  LAD  2403  5522  842  1423  233  815  136  0.335  0.446\n",
      "1  ARI  2436  5522  886  1452  211  845  119  0.337  0.440\n",
      "2  NYY  2304  5450  815  1352  237  782   88  0.333  0.429\n",
      "3  PHI  2317  5534  784  1423  198  750  148  0.325  0.425\n",
      "4  BAL  2412  5567  786  1391  235  759   98  0.315  0.435\n"
     ]
    }
   ],
   "source": [
    "team_batting = pyb.team_batting(2024)\n",
    "team_batting = team_batting[['Team', 'G', 'AB', 'R', 'H', 'HR', 'RBI', 'SB', 'OBP', 'SLG']]\n",
    "print(\"Team Batting Data Sample:\")\n",
    "print(team_batting.head())\n"
   ]
  },
  {
   "cell_type": "code",
   "execution_count": 4,
   "id": "0fdfc048",
   "metadata": {},
   "outputs": [
    {
     "name": "stdout",
     "output_type": "stream",
     "text": [
      "\n",
      "Team Pitching Data Sample:\n",
      "  Team   W   L   ERA      IP    SO  WHIP   FIP\n",
      "0  ATL  89  73  3.49  1443.1  1553  1.20  3.44\n",
      "1  SEA  85  77  3.49  1433.0  1416  1.08  3.73\n",
      "2  CLE  92  69  3.61  1428.0  1410  1.20  3.98\n",
      "3  DET  86  76  3.63  1447.0  1354  1.16  3.70\n",
      "4  MIL  93  69  3.65  1446.0  1373  1.23  4.19\n"
     ]
    }
   ],
   "source": [
    "team_pitching = pyb.team_pitching(2024)\n",
    "team_pitching = team_pitching[['Team', 'W', 'L', 'ERA', 'IP', 'SO', 'WHIP', 'FIP']]\n",
    "print(\"\\nTeam Pitching Data Sample:\")\n",
    "print(team_pitching.head())\n"
   ]
  },
  {
   "cell_type": "code",
   "execution_count": 5,
   "id": "12dc55a7",
   "metadata": {},
   "outputs": [
    {
     "name": "stdout",
     "output_type": "stream",
     "text": [
      "http://www.baseball-reference.com/teams/LAD/2024-schedule-scores.shtml\n",
      "\n",
      "Dodgers Game Log Sample:\n",
      "                Date  Opp W/L     R    RA   Inn      GB Home_Away\n",
      "1  Wednesday, Mar 20  SDP   W   5.0   2.0   9.0  up 0.5         @\n",
      "2   Thursday, Mar 21  SDP   L  11.0  15.0   9.0    Tied      Home\n",
      "3   Thursday, Mar 28  STL   W   7.0   1.0   9.0    Tied      Home\n",
      "4     Friday, Mar 29  STL   W   6.0   3.0   9.0    Tied      Home\n",
      "5   Saturday, Mar 30  STL   L   5.0   6.0  10.0    Tied      Home\n"
     ]
    },
    {
     "name": "stderr",
     "output_type": "stream",
     "text": [
      "/home/cjanua/Passport_Repos/SportsBetting/.venv/lib/python3.13/site-packages/pybaseball/team_results.py:75: FutureWarning: A value is trying to be set on a copy of a DataFrame or Series through chained assignment using an inplace method.\n",
      "The behavior will change in pandas 3.0. This inplace method will never work because the intermediate object on which we are setting values always behaves as a copy.\n",
      "\n",
      "For example, when doing 'df[col].method(value, inplace=True)', try using 'df.method({col: value}, inplace=True)' or df[col] = df[col].method(value) instead, to perform the operation inplace on the original object.\n",
      "\n",
      "\n",
      "  df['Attendance'].replace(r'^Unknown$', np.nan, regex=True, inplace = True) # make this a NaN so the column can benumeric\n"
     ]
    }
   ],
   "source": [
    "dodgers_logs = pyb.schedule_and_record(2024, 'LAD')\n",
    "dodgers_logs = dodgers_logs[['Date', 'Opp', 'W/L', 'R', 'RA', 'Inn', 'GB', 'Home_Away']]\n",
    "print(\"\\nDodgers Game Log Sample:\")\n",
    "print(dodgers_logs.head())"
   ]
  },
  {
   "cell_type": "code",
   "execution_count": 11,
   "id": "9ceb3e17",
   "metadata": {},
   "outputs": [],
   "source": [
    "def scrape_oddsportal(url):\n",
    "    headers = {'User-Agent': 'Mozilla/5.0 (Windows NT 10.0; Win64; x64) Chrome/91.0.4472.124'}\n",
    "    try:\n",
    "        response = requests.get(url, headers=headers)\n",
    "        response.raise_for_status()\n",
    "        soup = BeautifulSoup(response.text, 'html.parser')\n",
    "        \n",
    "        # Find all tables (no specific 'table-main' class in provided HTML)\n",
    "        tables = soup.find_all('table')\n",
    "        odds_data = []\n",
    "        \n",
    "        for table in tables:\n",
    "            # Look for rows with game data (skip headers and non-game rows)\n",
    "            rows = table.find_all('tr')\n",
    "            for row in rows:\n",
    "                cols = row.find_all('td')\n",
    "                if len(cols) >= 4:  # Ensure row has game, odds, and bookmakers\n",
    "                    # Extract game details (teams and score)\n",
    "                    game_cell = cols[0].text.strip()\n",
    "                    # Use regex to split teams and scores (e.g., \"New York Yankees 6–7 Los Angeles Dodgers\")\n",
    "                    match = re.match(r'(.+?)\\s+(\\d+)\\s*–\\s*(\\d+)\\s+(.+)', game_cell)\n",
    "                    if match:\n",
    "                        team1, score1, score2, team2 = match.groups()\n",
    "                    else:\n",
    "                        continue  # Skip rows without proper game format\n",
    "                    \n",
    "                    # Extract odds and bookmakers\n",
    "                    moneyline_home = cols[1].text.strip() if len(cols) > 1 else 'N/A'\n",
    "                    moneyline_away = cols[2].text.strip() if len(cols) > 2 else 'N/A'\n",
    "                    over_under = cols[3].text.strip() if len(cols) > 3 else 'N/A'\n",
    "                    bookmakers = cols[4].text.strip() if len(cols) > 4 else 'N/A'\n",
    "                    \n",
    "                    # Extract date and time (from parent div or previous row)\n",
    "                    date_row = row.find_previous('tr', class_='table-dummyrow')\n",
    "                    game_date = date_row.text.strip() if date_row else 'Unknown'\n",
    "                    \n",
    "                    odds_data.append({\n",
    "                        'Date': game_date,\n",
    "                        'Team1': team1,\n",
    "                        'Score1': score1,\n",
    "                        'Team2': team2,\n",
    "                        'Score2': score2,\n",
    "                        'Moneyline_Home': moneyline_home,\n",
    "                        'Moneyline_Away': moneyline_away,\n",
    "                        'Over_Under': over_under,\n",
    "                        'Bookmakers': bookmakers\n",
    "                    })\n",
    "        \n",
    "        return pd.DataFrame(odds_data)\n",
    "    except Exception as e:\n",
    "        print(f\"Error scraping odds: {e}\")\n",
    "        return pd.DataFrame()"
   ]
  },
  {
   "cell_type": "code",
   "execution_count": 12,
   "id": "fd2a775e",
   "metadata": {},
   "outputs": [
    {
     "name": "stdout",
     "output_type": "stream",
     "text": [
      "No odds data retrieved. Check URL or site restrictions.\n"
     ]
    }
   ],
   "source": [
    "odds_url = \"https://www.oddsportal.com/baseball/usa/mlb-2024/results/\"\n",
    "odds_df = scrape_oddsportal(odds_url)\n",
    "if not odds_df.empty:\n",
    "    print(\"\\nBetting Odds Sample:\")\n",
    "    print(odds_df.head())\n",
    "    odds_df.to_csv('mlb_odds_2024.csv', index=False)\n",
    "else:\n",
    "    print(\"No odds data retrieved. Check URL or site restrictions.\")"
   ]
  },
  {
   "cell_type": "code",
   "execution_count": 13,
   "id": "a6c7dbe3",
   "metadata": {},
   "outputs": [],
   "source": [
    "def get_weather_data(city, date, api_key):\n",
    "    try:\n",
    "        # Convert date to Unix timestamp for API\n",
    "        date_obj = datetime.strptime(date, '%d %b %Y')\n",
    "        timestamp = int(date_obj.timestamp())\n",
    "        url = f\"http://api.openweathermap.org/data/2.5/weather?q={city}&dt={timestamp}&appid={api_key}&units=metric\"\n",
    "        response = requests.get(url)\n",
    "        response.raise_for_status()\n",
    "        data = response.json()\n",
    "        return {\n",
    "            'City': city,\n",
    "            'Date': date,\n",
    "            'Temperature_C': data['main']['temp'],\n",
    "            'Wind_Speed_ms': data['wind']['speed'],\n",
    "            'Humidity': data['main']['humidity']\n",
    "        }\n",
    "    except Exception as e:\n",
    "        print(f\"Error fetching weather for {city} on {date}: {e}\")\n",
    "        return None"
   ]
  },
  {
   "cell_type": "code",
   "execution_count": 14,
   "id": "3135fce3",
   "metadata": {},
   "outputs": [
    {
     "name": "stdout",
     "output_type": "stream",
     "text": [
      "Error fetching weather for Los Angeles on 30 Oct 2024: 401 Client Error: Unauthorized for url: http://api.openweathermap.org/data/2.5/weather?q=Los%20Angeles&dt=1730260800&appid=YOUR_OPENWEATHER_API_KEY&units=metric\n"
     ]
    }
   ],
   "source": [
    "api_key = \"YOUR_OPENWEATHER_API_KEY\"  # Replace with your key\n",
    "weather_data = get_weather_data(\"Los Angeles\", \"30 Oct 2024\", api_key)\n",
    "if weather_data:\n",
    "    weather_df = pd.DataFrame([weather_data])\n",
    "    print(\"\\nWeather Data Sample:\")\n",
    "    print(weather_df)\n",
    "    weather_df.to_csv('mlb_weather_sample_2024.csv', index=False)"
   ]
  },
  {
   "cell_type": "code",
   "execution_count": 15,
   "id": "ec60b13c",
   "metadata": {},
   "outputs": [
    {
     "name": "stdout",
     "output_type": "stream",
     "text": [
      "\n",
      "Data Availability Summary:\n",
      "- Team Batting: 30 teams, columns: ['Team', 'G', 'AB', 'R', 'H', 'HR', 'RBI', 'SB', 'OBP', 'SLG']\n",
      "- Team Pitching: 30 teams, columns: ['Team', 'W', 'L', 'ERA', 'IP', 'SO', 'WHIP', 'FIP']\n",
      "- Game Logs (Dodgers): 162 games, columns: ['Date', 'Opp', 'W/L', 'R', 'RA', 'Inn', 'GB', 'Home_Away']\n",
      "- Betting Odds: 0 games, columns: []\n",
      "- Weather Data: Not Available\n"
     ]
    }
   ],
   "source": [
    "print(\"\\nData Availability Summary:\")\n",
    "print(f\"- Team Batting: {len(team_batting)} teams, columns: {list(team_batting.columns)}\")\n",
    "print(f\"- Team Pitching: {len(team_pitching)} teams, columns: {list(team_pitching.columns)}\")\n",
    "print(f\"- Game Logs (Dodgers): {len(dodgers_logs)} games, columns: {list(dodgers_logs.columns)}\")\n",
    "print(f\"- Betting Odds: {len(odds_df)} games, columns: {list(odds_df.columns)}\")\n",
    "print(f\"- Weather Data: {'Available' if weather_data else 'Not Available'}\")\n"
   ]
  },
  {
   "cell_type": "code",
   "execution_count": 16,
   "id": "bd59cb36",
   "metadata": {},
   "outputs": [
    {
     "name": "stdout",
     "output_type": "stream",
     "text": [
      "Cannot merge; no odds data available.\n"
     ]
    }
   ],
   "source": [
    "if not odds_df.empty:\n",
    "    # Mock merge (simplified; adjust based on actual data alignment)\n",
    "    merged_df = dodgers_logs.copy()\n",
    "    merged_df['Moneyline_Home'] = 'N/A'  # Placeholder; replace with actual merge logic\n",
    "    print(\"\\nMerged Game Logs and Odds Sample:\")\n",
    "    print(merged_df.head())\n",
    "    merged_df.to_csv('merged_mlb_data_2024.csv', index=False)\n",
    "else:\n",
    "    print(\"Cannot merge; no odds data available.\")"
   ]
  },
  {
   "cell_type": "code",
   "execution_count": null,
   "id": "151b56d9",
   "metadata": {},
   "outputs": [],
   "source": []
  }
 ],
 "metadata": {
  "kernelspec": {
   "display_name": "SportsBetting",
   "language": "python",
   "name": "python3"
  },
  "language_info": {
   "codemirror_mode": {
    "name": "ipython",
    "version": 3
   },
   "file_extension": ".py",
   "mimetype": "text/x-python",
   "name": "python",
   "nbconvert_exporter": "python",
   "pygments_lexer": "ipython3",
   "version": "3.13.7"
  }
 },
 "nbformat": 4,
 "nbformat_minor": 5
}
